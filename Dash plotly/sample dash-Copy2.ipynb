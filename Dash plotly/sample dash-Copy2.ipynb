{
 "cells": [
  {
   "cell_type": "code",
   "execution_count": 15,
   "id": "8de1c9bc-0f2e-4dfc-a8e5-8010d1dfc489",
   "metadata": {},
   "outputs": [],
   "source": [
    "from dash import Dash, html, dcc\n",
    "import dash_core_components as dcc\n",
    "import dash_html_components as html\n",
    "import numpy as np\n",
    "import plotly.graph_objs as go\n",
    "import numpy as np\n",
    "import pandas as pd"
   ]
  },
  {
   "cell_type": "code",
   "execution_count": 9,
   "id": "137bdeaa-7c81-4133-a5a8-52cc4fa505f4",
   "metadata": {},
   "outputs": [],
   "source": [
    "app = dash.Dash()"
   ]
  },
  {
   "cell_type": "code",
   "execution_count": 10,
   "id": "a799d2a2-f92e-42c7-9539-4c5193d4cb21",
   "metadata": {},
   "outputs": [],
   "source": [
    "np.random.seed(50)\n",
    "x_rand = np.random.randint(1,61,60)\n",
    "y_rand = np.random.randint(1,61,60)"
   ]
  },
  {
   "cell_type": "code",
   "execution_count": 13,
   "id": "03ea7073-dceb-4148-92c3-dbfd0c836665",
   "metadata": {},
   "outputs": [],
   "source": [
    "app.layout = html.Div([\n",
    "    dcc.Graph(\n",
    "        id='Scatter_chart',\n",
    "        figure = {\n",
    "            'data': [\n",
    "                go.Scatter(\n",
    "                    x= x_rand,\n",
    "                   y= y_rand,\n",
    "                   mode = 'markers'\n",
    "                )\n",
    "              ],\n",
    "                'layout': go.Layout(\n",
    "                title = 'Scatterplot of Random 60 points',\n",
    "                xaxis= {'title': 'Random X values'},\n",
    "                yaxis= {'title':  'Random Y values'}\n",
    "            \n",
    "               \n",
    "            \n",
    "            )\n",
    "        }\n",
    "    )\n",
    "])"
   ]
  },
  {
   "cell_type": "code",
   "execution_count": 14,
   "id": "6afee0d8-d950-4c8e-b1d2-1ff9f965c86e",
   "metadata": {},
   "outputs": [
    {
     "data": {
      "text/html": [
       "\n",
       "        <iframe\n",
       "            width=\"100%\"\n",
       "            height=\"650\"\n",
       "            src=\"http://127.0.0.1:8061/\"\n",
       "            frameborder=\"0\"\n",
       "            allowfullscreen\n",
       "            \n",
       "        ></iframe>\n",
       "        "
      ],
      "text/plain": [
       "<IPython.lib.display.IFrame at 0x163803e11f0>"
      ]
     },
     "metadata": {},
     "output_type": "display_data"
    }
   ],
   "source": [
    "if __name__ =='__main__': \n",
    "        app.run(port=8061)"
   ]
  }
 ],
 "metadata": {
  "kernelspec": {
   "display_name": "Python 3 (ipykernel)",
   "language": "python",
   "name": "python3"
  },
  "language_info": {
   "codemirror_mode": {
    "name": "ipython",
    "version": 3
   },
   "file_extension": ".py",
   "mimetype": "text/x-python",
   "name": "python",
   "nbconvert_exporter": "python",
   "pygments_lexer": "ipython3",
   "version": "3.12.7"
  }
 },
 "nbformat": 4,
 "nbformat_minor": 5
}
